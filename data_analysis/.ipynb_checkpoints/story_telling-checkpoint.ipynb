{
 "cells": [
  {
   "cell_type": "code",
   "execution_count": 1,
   "metadata": {},
   "outputs": [],
   "source": [
    "import pandas as pd\n",
    "import matplotlib.pyplot as plt\n"
   ]
  },
  {
   "cell_type": "markdown",
   "metadata": {},
   "source": [
    "# Data Story"
   ]
  },
  {
   "cell_type": "code",
   "execution_count": 2,
   "metadata": {},
   "outputs": [
    {
     "data": {
      "text/html": [
       "<div>\n",
       "<style scoped>\n",
       "    .dataframe tbody tr th:only-of-type {\n",
       "        vertical-align: middle;\n",
       "    }\n",
       "\n",
       "    .dataframe tbody tr th {\n",
       "        vertical-align: top;\n",
       "    }\n",
       "\n",
       "    .dataframe thead th {\n",
       "        text-align: right;\n",
       "    }\n",
       "</style>\n",
       "<table border=\"1\" class=\"dataframe\">\n",
       "  <thead>\n",
       "    <tr style=\"text-align: right;\">\n",
       "      <th></th>\n",
       "      <th>num_orders</th>\n",
       "      <th>week</th>\n",
       "      <th>center_id</th>\n",
       "      <th>meal_id</th>\n",
       "      <th>checkout_price</th>\n",
       "      <th>base_price</th>\n",
       "      <th>emailer_for_promotion</th>\n",
       "      <th>homepage_featured</th>\n",
       "      <th>city_code</th>\n",
       "      <th>region_code</th>\n",
       "      <th>center_type</th>\n",
       "      <th>op_area</th>\n",
       "      <th>category</th>\n",
       "      <th>cuisine</th>\n",
       "    </tr>\n",
       "    <tr>\n",
       "      <th>id</th>\n",
       "      <th></th>\n",
       "      <th></th>\n",
       "      <th></th>\n",
       "      <th></th>\n",
       "      <th></th>\n",
       "      <th></th>\n",
       "      <th></th>\n",
       "      <th></th>\n",
       "      <th></th>\n",
       "      <th></th>\n",
       "      <th></th>\n",
       "      <th></th>\n",
       "      <th></th>\n",
       "      <th></th>\n",
       "    </tr>\n",
       "  </thead>\n",
       "  <tbody>\n",
       "    <tr>\n",
       "      <th>1379560</th>\n",
       "      <td>177</td>\n",
       "      <td>1</td>\n",
       "      <td>55</td>\n",
       "      <td>1885</td>\n",
       "      <td>136.83</td>\n",
       "      <td>152.29</td>\n",
       "      <td>0</td>\n",
       "      <td>0</td>\n",
       "      <td>647</td>\n",
       "      <td>56</td>\n",
       "      <td>TYPE_C</td>\n",
       "      <td>2.0</td>\n",
       "      <td>Beverages</td>\n",
       "      <td>Thai</td>\n",
       "    </tr>\n",
       "    <tr>\n",
       "      <th>1466964</th>\n",
       "      <td>270</td>\n",
       "      <td>1</td>\n",
       "      <td>55</td>\n",
       "      <td>1993</td>\n",
       "      <td>136.83</td>\n",
       "      <td>135.83</td>\n",
       "      <td>0</td>\n",
       "      <td>0</td>\n",
       "      <td>647</td>\n",
       "      <td>56</td>\n",
       "      <td>TYPE_C</td>\n",
       "      <td>2.0</td>\n",
       "      <td>Beverages</td>\n",
       "      <td>Thai</td>\n",
       "    </tr>\n",
       "    <tr>\n",
       "      <th>1346989</th>\n",
       "      <td>189</td>\n",
       "      <td>1</td>\n",
       "      <td>55</td>\n",
       "      <td>2539</td>\n",
       "      <td>134.86</td>\n",
       "      <td>135.86</td>\n",
       "      <td>0</td>\n",
       "      <td>0</td>\n",
       "      <td>647</td>\n",
       "      <td>56</td>\n",
       "      <td>TYPE_C</td>\n",
       "      <td>2.0</td>\n",
       "      <td>Beverages</td>\n",
       "      <td>Thai</td>\n",
       "    </tr>\n",
       "    <tr>\n",
       "      <th>1338232</th>\n",
       "      <td>54</td>\n",
       "      <td>1</td>\n",
       "      <td>55</td>\n",
       "      <td>2139</td>\n",
       "      <td>339.50</td>\n",
       "      <td>437.53</td>\n",
       "      <td>0</td>\n",
       "      <td>0</td>\n",
       "      <td>647</td>\n",
       "      <td>56</td>\n",
       "      <td>TYPE_C</td>\n",
       "      <td>2.0</td>\n",
       "      <td>Beverages</td>\n",
       "      <td>Indian</td>\n",
       "    </tr>\n",
       "    <tr>\n",
       "      <th>1448490</th>\n",
       "      <td>40</td>\n",
       "      <td>1</td>\n",
       "      <td>55</td>\n",
       "      <td>2631</td>\n",
       "      <td>243.50</td>\n",
       "      <td>242.50</td>\n",
       "      <td>0</td>\n",
       "      <td>0</td>\n",
       "      <td>647</td>\n",
       "      <td>56</td>\n",
       "      <td>TYPE_C</td>\n",
       "      <td>2.0</td>\n",
       "      <td>Beverages</td>\n",
       "      <td>Indian</td>\n",
       "    </tr>\n",
       "  </tbody>\n",
       "</table>\n",
       "</div>"
      ],
      "text/plain": [
       "         num_orders  week  center_id  meal_id  checkout_price  base_price  \\\n",
       "id                                                                          \n",
       "1379560         177     1         55     1885          136.83      152.29   \n",
       "1466964         270     1         55     1993          136.83      135.83   \n",
       "1346989         189     1         55     2539          134.86      135.86   \n",
       "1338232          54     1         55     2139          339.50      437.53   \n",
       "1448490          40     1         55     2631          243.50      242.50   \n",
       "\n",
       "         emailer_for_promotion  homepage_featured  city_code  region_code  \\\n",
       "id                                                                          \n",
       "1379560                      0                  0        647           56   \n",
       "1466964                      0                  0        647           56   \n",
       "1346989                      0                  0        647           56   \n",
       "1338232                      0                  0        647           56   \n",
       "1448490                      0                  0        647           56   \n",
       "\n",
       "        center_type  op_area   category cuisine  \n",
       "id                                               \n",
       "1379560      TYPE_C      2.0  Beverages    Thai  \n",
       "1466964      TYPE_C      2.0  Beverages    Thai  \n",
       "1346989      TYPE_C      2.0  Beverages    Thai  \n",
       "1338232      TYPE_C      2.0  Beverages  Indian  \n",
       "1448490      TYPE_C      2.0  Beverages  Indian  "
      ]
     },
     "execution_count": 2,
     "metadata": {},
     "output_type": "execute_result"
    }
   ],
   "source": [
    "dataset = pd.read_csv(\"../data/train/train_feature.csv\", index_col='id')\n",
    "dataset.head()"
   ]
  },
  {
   "cell_type": "code",
   "execution_count": 3,
   "metadata": {},
   "outputs": [
    {
     "name": "stdout",
     "output_type": "stream",
     "text": [
      "<class 'pandas.core.frame.DataFrame'>\n",
      "Int64Index: 456548 entries, 1379560 to 1361984\n",
      "Data columns (total 14 columns):\n",
      "num_orders               456548 non-null int64\n",
      "week                     456548 non-null category\n",
      "center_id                456548 non-null category\n",
      "meal_id                  456548 non-null category\n",
      "checkout_price           456548 non-null float64\n",
      "base_price               456548 non-null float64\n",
      "emailer_for_promotion    456548 non-null category\n",
      "homepage_featured        456548 non-null category\n",
      "city_code                456548 non-null category\n",
      "region_code              456548 non-null category\n",
      "center_type              456548 non-null category\n",
      "op_area                  456548 non-null float64\n",
      "category                 456548 non-null category\n",
      "cuisine                  456548 non-null category\n",
      "dtypes: category(10), float64(3), int64(1)\n",
      "memory usage: 22.2 MB\n"
     ]
    }
   ],
   "source": [
    "categorical_columns = ['week', 'center_id', 'meal_id', 'emailer_for_promotion', 'homepage_featured', 'city_code', \n",
    "                       'region_code', 'center_type', 'category', 'cuisine']\n",
    "for column in categorical_columns:\n",
    "    dataset[column] = dataset[column].astype('category')\n",
    "dataset.info()"
   ]
  },
  {
   "cell_type": "markdown",
   "metadata": {},
   "source": [
    " "
   ]
  },
  {
   "cell_type": "markdown",
   "metadata": {},
   "source": [
    "### What is the total trend of orders ?"
   ]
  },
  {
   "cell_type": "code",
   "execution_count": 4,
   "metadata": {},
   "outputs": [
    {
     "data": {
      "text/html": [
       "<div>\n",
       "<style scoped>\n",
       "    .dataframe tbody tr th:only-of-type {\n",
       "        vertical-align: middle;\n",
       "    }\n",
       "\n",
       "    .dataframe tbody tr th {\n",
       "        vertical-align: top;\n",
       "    }\n",
       "\n",
       "    .dataframe thead th {\n",
       "        text-align: right;\n",
       "    }\n",
       "</style>\n",
       "<table border=\"1\" class=\"dataframe\">\n",
       "  <thead>\n",
       "    <tr style=\"text-align: right;\">\n",
       "      <th></th>\n",
       "      <th>num_orders</th>\n",
       "    </tr>\n",
       "    <tr>\n",
       "      <th>week</th>\n",
       "      <th></th>\n",
       "    </tr>\n",
       "  </thead>\n",
       "  <tbody>\n",
       "    <tr>\n",
       "      <th>1</th>\n",
       "      <td>792261</td>\n",
       "    </tr>\n",
       "    <tr>\n",
       "      <th>2</th>\n",
       "      <td>787084</td>\n",
       "    </tr>\n",
       "    <tr>\n",
       "      <th>3</th>\n",
       "      <td>695262</td>\n",
       "    </tr>\n",
       "    <tr>\n",
       "      <th>4</th>\n",
       "      <td>743529</td>\n",
       "    </tr>\n",
       "    <tr>\n",
       "      <th>5</th>\n",
       "      <td>1198675</td>\n",
       "    </tr>\n",
       "  </tbody>\n",
       "</table>\n",
       "</div>"
      ],
      "text/plain": [
       "      num_orders\n",
       "week            \n",
       "1         792261\n",
       "2         787084\n",
       "3         695262\n",
       "4         743529\n",
       "5        1198675"
      ]
     },
     "execution_count": 4,
     "metadata": {},
     "output_type": "execute_result"
    }
   ],
   "source": [
    "overall_orders_trend = dataset[['week', 'num_orders']].groupby('week').sum()\n",
    "overall_orders_trend.head()"
   ]
  },
  {
   "cell_type": "code",
   "execution_count": 5,
   "metadata": {},
   "outputs": [
    {
     "data": {
      "image/png": "[encoded data removed]",
      "text/plain": [
       "<Figure size 432x288 with 1 Axes>"
      ]
     },
     "metadata": {
      "needs_background": "light"
     },
     "output_type": "display_data"
    }
   ],
   "source": [
    "overall_orders_trend.reset_index().plot('week', 'num_orders')\n",
    "_ = plt.title(\"Orders per week\")\n",
    "_ = plt.xlabel(\"Weeks\")\n",
    "_ = plt.ylabel(\"Orders\")\n",
    "plt.show()"
   ]
  },
  {
   "cell_type": "markdown",
   "metadata": {},
   "source": [
    "There were maximum orders in week 48 and 5 and minimum orders in week 62. These raises below questions:\n",
    "1. What went good in week 48 and 5 ?\n",
    "2. What went wrong in week 62 ?"
   ]
  },
  {
   "cell_type": "markdown",
   "metadata": {},
   "source": [
    "#### Compare week 62 and week 48"
   ]
  },
  {
   "cell_type": "code",
   "execution_count": 6,
   "metadata": {},
   "outputs": [
    {
     "data": {
      "text/html": [
       "<div>\n",
       "<style scoped>\n",
       "    .dataframe tbody tr th:only-of-type {\n",
       "        vertical-align: middle;\n",
       "    }\n",
       "\n",
       "    .dataframe tbody tr th {\n",
       "        vertical-align: top;\n",
       "    }\n",
       "\n",
       "    .dataframe thead th {\n",
       "        text-align: right;\n",
       "    }\n",
       "</style>\n",
       "<table border=\"1\" class=\"dataframe\">\n",
       "  <thead>\n",
       "    <tr style=\"text-align: right;\">\n",
       "      <th></th>\n",
       "      <th>num_orders</th>\n",
       "      <th>week</th>\n",
       "      <th>center_id</th>\n",
       "      <th>meal_id</th>\n",
       "      <th>checkout_price</th>\n",
       "      <th>base_price</th>\n",
       "      <th>emailer_for_promotion</th>\n",
       "      <th>homepage_featured</th>\n",
       "      <th>city_code</th>\n",
       "      <th>region_code</th>\n",
       "      <th>center_type</th>\n",
       "      <th>op_area</th>\n",
       "      <th>category</th>\n",
       "      <th>cuisine</th>\n",
       "    </tr>\n",
       "    <tr>\n",
       "      <th>id</th>\n",
       "      <th></th>\n",
       "      <th></th>\n",
       "      <th></th>\n",
       "      <th></th>\n",
       "      <th></th>\n",
       "      <th></th>\n",
       "      <th></th>\n",
       "      <th></th>\n",
       "      <th></th>\n",
       "      <th></th>\n",
       "      <th></th>\n",
       "      <th></th>\n",
       "      <th></th>\n",
       "      <th></th>\n",
       "    </tr>\n",
       "  </thead>\n",
       "  <tbody>\n",
       "    <tr>\n",
       "      <th>1060959</th>\n",
       "      <td>108</td>\n",
       "      <td>62</td>\n",
       "      <td>55</td>\n",
       "      <td>1885</td>\n",
       "      <td>143.59</td>\n",
       "      <td>143.59</td>\n",
       "      <td>0</td>\n",
       "      <td>0</td>\n",
       "      <td>647</td>\n",
       "      <td>56</td>\n",
       "      <td>TYPE_C</td>\n",
       "      <td>2.0</td>\n",
       "      <td>Beverages</td>\n",
       "      <td>Thai</td>\n",
       "    </tr>\n",
       "    <tr>\n",
       "      <th>1016680</th>\n",
       "      <td>53</td>\n",
       "      <td>62</td>\n",
       "      <td>55</td>\n",
       "      <td>1993</td>\n",
       "      <td>142.59</td>\n",
       "      <td>143.59</td>\n",
       "      <td>0</td>\n",
       "      <td>0</td>\n",
       "      <td>647</td>\n",
       "      <td>56</td>\n",
       "      <td>TYPE_C</td>\n",
       "      <td>2.0</td>\n",
       "      <td>Beverages</td>\n",
       "      <td>Thai</td>\n",
       "    </tr>\n",
       "    <tr>\n",
       "      <th>1178978</th>\n",
       "      <td>94</td>\n",
       "      <td>62</td>\n",
       "      <td>55</td>\n",
       "      <td>2539</td>\n",
       "      <td>147.50</td>\n",
       "      <td>145.50</td>\n",
       "      <td>0</td>\n",
       "      <td>0</td>\n",
       "      <td>647</td>\n",
       "      <td>56</td>\n",
       "      <td>TYPE_C</td>\n",
       "      <td>2.0</td>\n",
       "      <td>Beverages</td>\n",
       "      <td>Thai</td>\n",
       "    </tr>\n",
       "    <tr>\n",
       "      <th>1184367</th>\n",
       "      <td>14</td>\n",
       "      <td>62</td>\n",
       "      <td>55</td>\n",
       "      <td>2139</td>\n",
       "      <td>275.48</td>\n",
       "      <td>276.48</td>\n",
       "      <td>0</td>\n",
       "      <td>0</td>\n",
       "      <td>647</td>\n",
       "      <td>56</td>\n",
       "      <td>TYPE_C</td>\n",
       "      <td>2.0</td>\n",
       "      <td>Beverages</td>\n",
       "      <td>Indian</td>\n",
       "    </tr>\n",
       "    <tr>\n",
       "      <th>1370000</th>\n",
       "      <td>54</td>\n",
       "      <td>62</td>\n",
       "      <td>55</td>\n",
       "      <td>2631</td>\n",
       "      <td>153.26</td>\n",
       "      <td>154.26</td>\n",
       "      <td>0</td>\n",
       "      <td>0</td>\n",
       "      <td>647</td>\n",
       "      <td>56</td>\n",
       "      <td>TYPE_C</td>\n",
       "      <td>2.0</td>\n",
       "      <td>Beverages</td>\n",
       "      <td>Indian</td>\n",
       "    </tr>\n",
       "  </tbody>\n",
       "</table>\n",
       "</div>"
      ],
      "text/plain": [
       "         num_orders week center_id meal_id  checkout_price  base_price  \\\n",
       "id                                                                       \n",
       "1060959         108   62        55    1885          143.59      143.59   \n",
       "1016680          53   62        55    1993          142.59      143.59   \n",
       "1178978          94   62        55    2539          147.50      145.50   \n",
       "1184367          14   62        55    2139          275.48      276.48   \n",
       "1370000          54   62        55    2631          153.26      154.26   \n",
       "\n",
       "        emailer_for_promotion homepage_featured city_code region_code  \\\n",
       "id                                                                      \n",
       "1060959                     0                 0       647          56   \n",
       "1016680                     0                 0       647          56   \n",
       "1178978                     0                 0       647          56   \n",
       "1184367                     0                 0       647          56   \n",
       "1370000                     0                 0       647          56   \n",
       "\n",
       "        center_type  op_area   category cuisine  \n",
       "id                                               \n",
       "1060959      TYPE_C      2.0  Beverages    Thai  \n",
       "1016680      TYPE_C      2.0  Beverages    Thai  \n",
       "1178978      TYPE_C      2.0  Beverages    Thai  \n",
       "1184367      TYPE_C      2.0  Beverages  Indian  \n",
       "1370000      TYPE_C      2.0  Beverages  Indian  "
      ]
     },
     "execution_count": 6,
     "metadata": {},
     "output_type": "execute_result"
    }
   ],
   "source": [
    "dataset_week_62 = dataset[dataset.week == 62]\n",
    "dataset_week_62.head()"
   ]
  },
  {
   "cell_type": "code",
   "execution_count": 7,
   "metadata": {},
   "outputs": [
    {
     "data": {
      "text/html": [
       "<div>\n",
       "<style scoped>\n",
       "    .dataframe tbody tr th:only-of-type {\n",
       "        vertical-align: middle;\n",
       "    }\n",
       "\n",
       "    .dataframe tbody tr th {\n",
       "        vertical-align: top;\n",
       "    }\n",
       "\n",
       "    .dataframe thead th {\n",
       "        text-align: right;\n",
       "    }\n",
       "</style>\n",
       "<table border=\"1\" class=\"dataframe\">\n",
       "  <thead>\n",
       "    <tr style=\"text-align: right;\">\n",
       "      <th></th>\n",
       "      <th>num_orders</th>\n",
       "      <th>week</th>\n",
       "      <th>center_id</th>\n",
       "      <th>meal_id</th>\n",
       "      <th>checkout_price</th>\n",
       "      <th>base_price</th>\n",
       "      <th>emailer_for_promotion</th>\n",
       "      <th>homepage_featured</th>\n",
       "      <th>city_code</th>\n",
       "      <th>region_code</th>\n",
       "      <th>center_type</th>\n",
       "      <th>op_area</th>\n",
       "      <th>category</th>\n",
       "      <th>cuisine</th>\n",
       "    </tr>\n",
       "    <tr>\n",
       "      <th>id</th>\n",
       "      <th></th>\n",
       "      <th></th>\n",
       "      <th></th>\n",
       "      <th></th>\n",
       "      <th></th>\n",
       "      <th></th>\n",
       "      <th></th>\n",
       "      <th></th>\n",
       "      <th></th>\n",
       "      <th></th>\n",
       "      <th></th>\n",
       "      <th></th>\n",
       "      <th></th>\n",
       "      <th></th>\n",
       "    </tr>\n",
       "  </thead>\n",
       "  <tbody>\n",
       "    <tr>\n",
       "      <th>1078055</th>\n",
       "      <td>366</td>\n",
       "      <td>48</td>\n",
       "      <td>55</td>\n",
       "      <td>1885</td>\n",
       "      <td>122.25</td>\n",
       "      <td>145.53</td>\n",
       "      <td>0</td>\n",
       "      <td>0</td>\n",
       "      <td>647</td>\n",
       "      <td>56</td>\n",
       "      <td>TYPE_C</td>\n",
       "      <td>2.0</td>\n",
       "      <td>Beverages</td>\n",
       "      <td>Thai</td>\n",
       "    </tr>\n",
       "    <tr>\n",
       "      <th>1343992</th>\n",
       "      <td>284</td>\n",
       "      <td>48</td>\n",
       "      <td>55</td>\n",
       "      <td>1993</td>\n",
       "      <td>121.28</td>\n",
       "      <td>145.56</td>\n",
       "      <td>0</td>\n",
       "      <td>0</td>\n",
       "      <td>647</td>\n",
       "      <td>56</td>\n",
       "      <td>TYPE_C</td>\n",
       "      <td>2.0</td>\n",
       "      <td>Beverages</td>\n",
       "      <td>Thai</td>\n",
       "    </tr>\n",
       "    <tr>\n",
       "      <th>1243384</th>\n",
       "      <td>161</td>\n",
       "      <td>48</td>\n",
       "      <td>55</td>\n",
       "      <td>2539</td>\n",
       "      <td>119.31</td>\n",
       "      <td>144.53</td>\n",
       "      <td>0</td>\n",
       "      <td>0</td>\n",
       "      <td>647</td>\n",
       "      <td>56</td>\n",
       "      <td>TYPE_C</td>\n",
       "      <td>2.0</td>\n",
       "      <td>Beverages</td>\n",
       "      <td>Thai</td>\n",
       "    </tr>\n",
       "    <tr>\n",
       "      <th>1330205</th>\n",
       "      <td>26</td>\n",
       "      <td>48</td>\n",
       "      <td>55</td>\n",
       "      <td>2139</td>\n",
       "      <td>298.82</td>\n",
       "      <td>298.82</td>\n",
       "      <td>0</td>\n",
       "      <td>0</td>\n",
       "      <td>647</td>\n",
       "      <td>56</td>\n",
       "      <td>TYPE_C</td>\n",
       "      <td>2.0</td>\n",
       "      <td>Beverages</td>\n",
       "      <td>Indian</td>\n",
       "    </tr>\n",
       "    <tr>\n",
       "      <th>1072054</th>\n",
       "      <td>80</td>\n",
       "      <td>48</td>\n",
       "      <td>55</td>\n",
       "      <td>2631</td>\n",
       "      <td>150.35</td>\n",
       "      <td>150.35</td>\n",
       "      <td>0</td>\n",
       "      <td>0</td>\n",
       "      <td>647</td>\n",
       "      <td>56</td>\n",
       "      <td>TYPE_C</td>\n",
       "      <td>2.0</td>\n",
       "      <td>Beverages</td>\n",
       "      <td>Indian</td>\n",
       "    </tr>\n",
       "  </tbody>\n",
       "</table>\n",
       "</div>"
      ],
      "text/plain": [
       "         num_orders week center_id meal_id  checkout_price  base_price  \\\n",
       "id                                                                       \n",
       "1078055         366   48        55    1885          122.25      145.53   \n",
       "1343992         284   48        55    1993          121.28      145.56   \n",
       "1243384         161   48        55    2539          119.31      144.53   \n",
       "1330205          26   48        55    2139          298.82      298.82   \n",
       "1072054          80   48        55    2631          150.35      150.35   \n",
       "\n",
       "        emailer_for_promotion homepage_featured city_code region_code  \\\n",
       "id                                                                      \n",
       "1078055                     0                 0       647          56   \n",
       "1343992                     0                 0       647          56   \n",
       "1243384                     0                 0       647          56   \n",
       "1330205                     0                 0       647          56   \n",
       "1072054                     0                 0       647          56   \n",
       "\n",
       "        center_type  op_area   category cuisine  \n",
       "id                                               \n",
       "1078055      TYPE_C      2.0  Beverages    Thai  \n",
       "1343992      TYPE_C      2.0  Beverages    Thai  \n",
       "1243384      TYPE_C      2.0  Beverages    Thai  \n",
       "1330205      TYPE_C      2.0  Beverages  Indian  \n",
       "1072054      TYPE_C      2.0  Beverages  Indian  "
      ]
     },
     "execution_count": 7,
     "metadata": {},
     "output_type": "execute_result"
    }
   ],
   "source": [
    "dataset_week_48 = dataset[dataset.week == 48]\n",
    "dataset_week_48.head()"
   ]
  },
  {
   "cell_type": "markdown",
   "metadata": {},
   "source": [
    "Let's compare the distribution of num_orders"
   ]
  },
  {
   "cell_type": "code",
   "execution_count": 23,
   "metadata": {},
   "outputs": [
    {
     "data": {
      "image/png": "[encoded data removed]",
      "text/plain": [
       "<Figure size 432x288 with 1 Axes>"
      ]
     },
     "metadata": {
      "needs_background": "light"
     },
     "output_type": "display_data"
    }
   ],
   "source": [
    "dataset_week_62.num_orders.hist(alpha=0.5)\n",
    "dataset_week_48.num_orders.hist(alpha=0.5)\n",
    "\n",
    "_ = plt.xlabel('Orders')\n",
    "_ = plt.ylabel('Order Count')\n",
    "_ = plt.title('Orders comparison between week 62 and 48')\n",
    "plt.show()"
   ]
  },
  {
   "cell_type": "markdown",
   "metadata": {},
   "source": [
    "<p>There is a hugh difference between the distribution.</p>"
   ]
  },
  {
   "cell_type": "code",
   "execution_count": 9,
   "metadata": {},
   "outputs": [
    {
     "data": {
      "text/plain": [
       "0    2715\n",
       "1     175\n",
       "Name: emailer_for_promotion, dtype: int64"
      ]
     },
     "execution_count": 9,
     "metadata": {},
     "output_type": "execute_result"
    }
   ],
   "source": [
    "dataset_week_62.emailer_for_promotion.value_counts()"
   ]
  },
  {
   "cell_type": "code",
   "execution_count": 10,
   "metadata": {},
   "outputs": [
    {
     "data": {
      "text/plain": [
       "0    2729\n",
       "1     401\n",
       "Name: emailer_for_promotion, dtype: int64"
      ]
     },
     "execution_count": 10,
     "metadata": {},
     "output_type": "execute_result"
    }
   ],
   "source": [
    "dataset_week_48.emailer_for_promotion.value_counts()"
   ]
  },
  {
   "cell_type": "markdown",
   "metadata": {},
   "source": [
    "There were almost double promotional activity, by email, in week 48 as compare to week 62. Hence, there is hugh difference in number of orders."
   ]
  },
  {
   "cell_type": "markdown",
   "metadata": {},
   "source": [
    " "
   ]
  },
  {
   "cell_type": "markdown",
   "metadata": {},
   "source": [
    "### What is the trend in orders per meal?"
   ]
  },
  {
   "cell_type": "code",
   "execution_count": 21,
   "metadata": {},
   "outputs": [
    {
     "data": {
      "text/html": [
       "<div>\n",
       "<style scoped>\n",
       "    .dataframe tbody tr th:only-of-type {\n",
       "        vertical-align: middle;\n",
       "    }\n",
       "\n",
       "    .dataframe tbody tr th {\n",
       "        vertical-align: top;\n",
       "    }\n",
       "\n",
       "    .dataframe thead th {\n",
       "        text-align: right;\n",
       "    }\n",
       "</style>\n",
       "<table border=\"1\" class=\"dataframe\">\n",
       "  <thead>\n",
       "    <tr style=\"text-align: right;\">\n",
       "      <th>cuisine</th>\n",
       "      <th>Continental</th>\n",
       "      <th>Indian</th>\n",
       "      <th>Italian</th>\n",
       "      <th>Thai</th>\n",
       "    </tr>\n",
       "    <tr>\n",
       "      <th>week</th>\n",
       "      <th></th>\n",
       "      <th></th>\n",
       "      <th></th>\n",
       "      <th></th>\n",
       "    </tr>\n",
       "  </thead>\n",
       "  <tbody>\n",
       "    <tr>\n",
       "      <th>1</th>\n",
       "      <td>146020</td>\n",
       "      <td>175317</td>\n",
       "      <td>228836</td>\n",
       "      <td>242088</td>\n",
       "    </tr>\n",
       "    <tr>\n",
       "      <th>2</th>\n",
       "      <td>133570</td>\n",
       "      <td>177109</td>\n",
       "      <td>202627</td>\n",
       "      <td>273778</td>\n",
       "    </tr>\n",
       "    <tr>\n",
       "      <th>3</th>\n",
       "      <td>97977</td>\n",
       "      <td>150148</td>\n",
       "      <td>197299</td>\n",
       "      <td>249838</td>\n",
       "    </tr>\n",
       "    <tr>\n",
       "      <th>4</th>\n",
       "      <td>118819</td>\n",
       "      <td>155239</td>\n",
       "      <td>192265</td>\n",
       "      <td>277206</td>\n",
       "    </tr>\n",
       "    <tr>\n",
       "      <th>5</th>\n",
       "      <td>116077</td>\n",
       "      <td>683532</td>\n",
       "      <td>169161</td>\n",
       "      <td>229905</td>\n",
       "    </tr>\n",
       "  </tbody>\n",
       "</table>\n",
       "</div>"
      ],
      "text/plain": [
       "cuisine  Continental  Indian  Italian    Thai\n",
       "week                                         \n",
       "1             146020  175317   228836  242088\n",
       "2             133570  177109   202627  273778\n",
       "3              97977  150148   197299  249838\n",
       "4             118819  155239   192265  277206\n",
       "5             116077  683532   169161  229905"
      ]
     },
     "execution_count": 21,
     "metadata": {},
     "output_type": "execute_result"
    }
   ],
   "source": [
    "orders_meal_trend = dataset.pivot_table(index='week', columns='cuisine', values='num_orders', aggfunc='sum')\n",
    "orders_meal_trend = orders_meal_trend.fillna(0)\n",
    "orders_meal_trend.head()"
   ]
  },
  {
   "cell_type": "code",
   "execution_count": 24,
   "metadata": {},
   "outputs": [
    {
     "data": {
      "image/png": "[encoded data removed]",
      "text/plain": [
       "<Figure size 432x288 with 1 Axes>"
      ]
     },
     "metadata": {
      "needs_background": "light"
     },
     "output_type": "display_data"
    }
   ],
   "source": [
    "orders_meal_trend.plot()\n",
    "_ = plt.title(\"Orders Trend in cuisine\")\n",
    "_ = plt.xlabel(\"Weeks\")\n",
    "_ = plt.ylabel(\"Orders\")\n",
    "plt.show()"
   ]
  },
  {
   "cell_type": "markdown",
   "metadata": {},
   "source": [
    "Below points can be concluded from above plot:\n",
    "1. Customers really likes Italian meals\n",
    "2. Continental meals have consistently lower orders as compare to other cuisine\n",
    "3. There is fluctuations in Indian meals"
   ]
  },
  {
   "cell_type": "code",
   "execution_count": null,
   "metadata": {},
   "outputs": [],
   "source": []
  }
 ],
 "metadata": {
  "kernelspec": {
   "display_name": "Python 3",
   "language": "python",
   "name": "python3"
  },
  "language_info": {
   "codemirror_mode": {
    "name": "ipython",
    "version": 3
   },
   "file_extension": ".py",
   "mimetype": "text/x-python",
   "name": "python",
   "nbconvert_exporter": "python",
   "pygments_lexer": "ipython3",
   "version": "3.7.3"
  }
 },
 "nbformat": 4,
 "nbformat_minor": 2
}
