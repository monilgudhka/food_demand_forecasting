{
 "cells": [
  {
   "cell_type": "code",
   "execution_count": 1,
   "metadata": {},
   "outputs": [],
   "source": [
    "import pandas as pd\n",
    "import numpy as np\n",
    "import matplotlib.pyplot as plt\n",
    "import seaborn as sns"
   ]
  },
  {
   "cell_type": "code",
   "execution_count": 2,
   "metadata": {},
   "outputs": [
    {
     "data": {
      "text/html": [
       "<div>\n",
       "<style scoped>\n",
       "    .dataframe tbody tr th:only-of-type {\n",
       "        vertical-align: middle;\n",
       "    }\n",
       "\n",
       "    .dataframe tbody tr th {\n",
       "        vertical-align: top;\n",
       "    }\n",
       "\n",
       "    .dataframe thead th {\n",
       "        text-align: right;\n",
       "    }\n",
       "</style>\n",
       "<table border=\"1\" class=\"dataframe\">\n",
       "  <thead>\n",
       "    <tr style=\"text-align: right;\">\n",
       "      <th></th>\n",
       "      <th>num_orders</th>\n",
       "      <th>week</th>\n",
       "      <th>center_id</th>\n",
       "      <th>meal_id</th>\n",
       "      <th>checkout_price</th>\n",
       "      <th>base_price</th>\n",
       "      <th>emailer_for_promotion</th>\n",
       "      <th>homepage_featured</th>\n",
       "      <th>city_code</th>\n",
       "      <th>region_code</th>\n",
       "      <th>center_type</th>\n",
       "      <th>op_area</th>\n",
       "      <th>category</th>\n",
       "      <th>cuisine</th>\n",
       "      <th>discount</th>\n",
       "      <th>year</th>\n",
       "      <th>month</th>\n",
       "      <th>week_in_month</th>\n",
       "    </tr>\n",
       "    <tr>\n",
       "      <th>id</th>\n",
       "      <th></th>\n",
       "      <th></th>\n",
       "      <th></th>\n",
       "      <th></th>\n",
       "      <th></th>\n",
       "      <th></th>\n",
       "      <th></th>\n",
       "      <th></th>\n",
       "      <th></th>\n",
       "      <th></th>\n",
       "      <th></th>\n",
       "      <th></th>\n",
       "      <th></th>\n",
       "      <th></th>\n",
       "      <th></th>\n",
       "      <th></th>\n",
       "      <th></th>\n",
       "      <th></th>\n",
       "    </tr>\n",
       "  </thead>\n",
       "  <tbody>\n",
       "    <tr>\n",
       "      <th>1379560</th>\n",
       "      <td>177</td>\n",
       "      <td>1</td>\n",
       "      <td>55</td>\n",
       "      <td>1885</td>\n",
       "      <td>136.83</td>\n",
       "      <td>152.29</td>\n",
       "      <td>0</td>\n",
       "      <td>0</td>\n",
       "      <td>647</td>\n",
       "      <td>56</td>\n",
       "      <td>TYPE_C</td>\n",
       "      <td>2.0</td>\n",
       "      <td>Beverages</td>\n",
       "      <td>Thai</td>\n",
       "      <td>15.46</td>\n",
       "      <td>1</td>\n",
       "      <td>1</td>\n",
       "      <td>1</td>\n",
       "    </tr>\n",
       "    <tr>\n",
       "      <th>1466964</th>\n",
       "      <td>270</td>\n",
       "      <td>1</td>\n",
       "      <td>55</td>\n",
       "      <td>1993</td>\n",
       "      <td>136.83</td>\n",
       "      <td>135.83</td>\n",
       "      <td>0</td>\n",
       "      <td>0</td>\n",
       "      <td>647</td>\n",
       "      <td>56</td>\n",
       "      <td>TYPE_C</td>\n",
       "      <td>2.0</td>\n",
       "      <td>Beverages</td>\n",
       "      <td>Thai</td>\n",
       "      <td>-1.00</td>\n",
       "      <td>1</td>\n",
       "      <td>1</td>\n",
       "      <td>1</td>\n",
       "    </tr>\n",
       "    <tr>\n",
       "      <th>1346989</th>\n",
       "      <td>189</td>\n",
       "      <td>1</td>\n",
       "      <td>55</td>\n",
       "      <td>2539</td>\n",
       "      <td>134.86</td>\n",
       "      <td>135.86</td>\n",
       "      <td>0</td>\n",
       "      <td>0</td>\n",
       "      <td>647</td>\n",
       "      <td>56</td>\n",
       "      <td>TYPE_C</td>\n",
       "      <td>2.0</td>\n",
       "      <td>Beverages</td>\n",
       "      <td>Thai</td>\n",
       "      <td>1.00</td>\n",
       "      <td>1</td>\n",
       "      <td>1</td>\n",
       "      <td>1</td>\n",
       "    </tr>\n",
       "    <tr>\n",
       "      <th>1338232</th>\n",
       "      <td>54</td>\n",
       "      <td>1</td>\n",
       "      <td>55</td>\n",
       "      <td>2139</td>\n",
       "      <td>339.50</td>\n",
       "      <td>437.53</td>\n",
       "      <td>0</td>\n",
       "      <td>0</td>\n",
       "      <td>647</td>\n",
       "      <td>56</td>\n",
       "      <td>TYPE_C</td>\n",
       "      <td>2.0</td>\n",
       "      <td>Beverages</td>\n",
       "      <td>Indian</td>\n",
       "      <td>98.03</td>\n",
       "      <td>1</td>\n",
       "      <td>1</td>\n",
       "      <td>1</td>\n",
       "    </tr>\n",
       "    <tr>\n",
       "      <th>1448490</th>\n",
       "      <td>40</td>\n",
       "      <td>1</td>\n",
       "      <td>55</td>\n",
       "      <td>2631</td>\n",
       "      <td>243.50</td>\n",
       "      <td>242.50</td>\n",
       "      <td>0</td>\n",
       "      <td>0</td>\n",
       "      <td>647</td>\n",
       "      <td>56</td>\n",
       "      <td>TYPE_C</td>\n",
       "      <td>2.0</td>\n",
       "      <td>Beverages</td>\n",
       "      <td>Indian</td>\n",
       "      <td>-1.00</td>\n",
       "      <td>1</td>\n",
       "      <td>1</td>\n",
       "      <td>1</td>\n",
       "    </tr>\n",
       "  </tbody>\n",
       "</table>\n",
       "</div>"
      ],
      "text/plain": [
       "         num_orders  week  center_id  meal_id  checkout_price  base_price  \\\n",
       "id                                                                          \n",
       "1379560         177     1         55     1885          136.83      152.29   \n",
       "1466964         270     1         55     1993          136.83      135.83   \n",
       "1346989         189     1         55     2539          134.86      135.86   \n",
       "1338232          54     1         55     2139          339.50      437.53   \n",
       "1448490          40     1         55     2631          243.50      242.50   \n",
       "\n",
       "         emailer_for_promotion  homepage_featured  city_code  region_code  \\\n",
       "id                                                                          \n",
       "1379560                      0                  0        647           56   \n",
       "1466964                      0                  0        647           56   \n",
       "1346989                      0                  0        647           56   \n",
       "1338232                      0                  0        647           56   \n",
       "1448490                      0                  0        647           56   \n",
       "\n",
       "        center_type  op_area   category cuisine  discount  year  month  \\\n",
       "id                                                                       \n",
       "1379560      TYPE_C      2.0  Beverages    Thai     15.46     1      1   \n",
       "1466964      TYPE_C      2.0  Beverages    Thai     -1.00     1      1   \n",
       "1346989      TYPE_C      2.0  Beverages    Thai      1.00     1      1   \n",
       "1338232      TYPE_C      2.0  Beverages  Indian     98.03     1      1   \n",
       "1448490      TYPE_C      2.0  Beverages  Indian     -1.00     1      1   \n",
       "\n",
       "         week_in_month  \n",
       "id                      \n",
       "1379560              1  \n",
       "1466964              1  \n",
       "1346989              1  \n",
       "1338232              1  \n",
       "1448490              1  "
      ]
     },
     "execution_count": 2,
     "metadata": {},
     "output_type": "execute_result"
    }
   ],
   "source": [
    "dataset = pd.read_csv(\"../data/train/train_feature.csv\", index_col='id')\n",
    "dataset.head()"
   ]
  },
  {
   "cell_type": "code",
   "execution_count": 3,
   "metadata": {},
   "outputs": [
    {
     "name": "stdout",
     "output_type": "stream",
     "text": [
      "<class 'pandas.core.frame.DataFrame'>\n",
      "Int64Index: 456548 entries, 1379560 to 1361984\n",
      "Data columns (total 18 columns):\n",
      "num_orders               456548 non-null int64\n",
      "week                     456548 non-null category\n",
      "center_id                456548 non-null category\n",
      "meal_id                  456548 non-null category\n",
      "checkout_price           456548 non-null float64\n",
      "base_price               456548 non-null float64\n",
      "emailer_for_promotion    456548 non-null category\n",
      "homepage_featured        456548 non-null category\n",
      "city_code                456548 non-null category\n",
      "region_code              456548 non-null category\n",
      "center_type              456548 non-null category\n",
      "op_area                  456548 non-null float64\n",
      "category                 456548 non-null category\n",
      "cuisine                  456548 non-null category\n",
      "discount                 456548 non-null float64\n",
      "year                     456548 non-null category\n",
      "month                    456548 non-null category\n",
      "week_in_month            456548 non-null category\n",
      "dtypes: category(13), float64(4), int64(1)\n",
      "memory usage: 27.0 MB\n"
     ]
    }
   ],
   "source": [
    "categorical_columns = ['week', 'center_id', 'meal_id', 'emailer_for_promotion', 'homepage_featured', 'city_code', \n",
    "                       'region_code', 'center_type', 'category', 'cuisine','year','month','week_in_month']\n",
    "for column in categorical_columns:\n",
    "    dataset[column] = dataset[column].astype('category')\n",
    "dataset.info()"
   ]
  },
  {
   "cell_type": "markdown",
   "metadata": {},
   "source": [
    " "
   ]
  },
  {
   "cell_type": "markdown",
   "metadata": {},
   "source": [
    "# Correlation between variables"
   ]
  },
  {
   "cell_type": "code",
   "execution_count": 4,
   "metadata": {},
   "outputs": [
    {
     "data": {
      "text/html": [
       "<div>\n",
       "<style scoped>\n",
       "    .dataframe tbody tr th:only-of-type {\n",
       "        vertical-align: middle;\n",
       "    }\n",
       "\n",
       "    .dataframe tbody tr th {\n",
       "        vertical-align: top;\n",
       "    }\n",
       "\n",
       "    .dataframe thead th {\n",
       "        text-align: right;\n",
       "    }\n",
       "</style>\n",
       "<table border=\"1\" class=\"dataframe\">\n",
       "  <thead>\n",
       "    <tr style=\"text-align: right;\">\n",
       "      <th></th>\n",
       "      <th>num_orders</th>\n",
       "      <th>checkout_price</th>\n",
       "      <th>base_price</th>\n",
       "      <th>op_area</th>\n",
       "      <th>discount</th>\n",
       "    </tr>\n",
       "  </thead>\n",
       "  <tbody>\n",
       "    <tr>\n",
       "      <th>num_orders</th>\n",
       "      <td>1.000000</td>\n",
       "      <td>-0.282108</td>\n",
       "      <td>-0.222306</td>\n",
       "      <td>0.176976</td>\n",
       "      <td>0.152950</td>\n",
       "    </tr>\n",
       "    <tr>\n",
       "      <th>checkout_price</th>\n",
       "      <td>-0.282108</td>\n",
       "      <td>1.000000</td>\n",
       "      <td>0.953389</td>\n",
       "      <td>0.021569</td>\n",
       "      <td>0.005878</td>\n",
       "    </tr>\n",
       "    <tr>\n",
       "      <th>base_price</th>\n",
       "      <td>-0.222306</td>\n",
       "      <td>0.953389</td>\n",
       "      <td>1.000000</td>\n",
       "      <td>0.018031</td>\n",
       "      <td>0.307343</td>\n",
       "    </tr>\n",
       "    <tr>\n",
       "      <th>op_area</th>\n",
       "      <td>0.176976</td>\n",
       "      <td>0.021569</td>\n",
       "      <td>0.018031</td>\n",
       "      <td>1.000000</td>\n",
       "      <td>-0.008267</td>\n",
       "    </tr>\n",
       "    <tr>\n",
       "      <th>discount</th>\n",
       "      <td>0.152950</td>\n",
       "      <td>0.005878</td>\n",
       "      <td>0.307343</td>\n",
       "      <td>-0.008267</td>\n",
       "      <td>1.000000</td>\n",
       "    </tr>\n",
       "  </tbody>\n",
       "</table>\n",
       "</div>"
      ],
      "text/plain": [
       "                num_orders  checkout_price  base_price   op_area  discount\n",
       "num_orders        1.000000       -0.282108   -0.222306  0.176976  0.152950\n",
       "checkout_price   -0.282108        1.000000    0.953389  0.021569  0.005878\n",
       "base_price       -0.222306        0.953389    1.000000  0.018031  0.307343\n",
       "op_area           0.176976        0.021569    0.018031  1.000000 -0.008267\n",
       "discount          0.152950        0.005878    0.307343 -0.008267  1.000000"
      ]
     },
     "execution_count": 4,
     "metadata": {},
     "output_type": "execute_result"
    }
   ],
   "source": [
    "correlation = dataset.corr()\n",
    "correlation"
   ]
  },
  {
   "cell_type": "code",
   "execution_count": 5,
   "metadata": {},
   "outputs": [
    {
     "data": {
      "image/png": "[encoded data removed]",
      "text/plain": [
       "<Figure size 432x288 with 2 Axes>"
      ]
     },
     "metadata": {
      "needs_background": "light"
     },
     "output_type": "display_data"
    }
   ],
   "source": [
    "_ = sns.heatmap(correlation)\n",
    "_ = plt.title(\"Correlation between continuous variables\")\n",
    "plt.show()"
   ]
  },
  {
   "cell_type": "markdown",
   "metadata": {},
   "source": [
    "<p>The checkout price and base price has high positive correlation with each other and negative correlation with number of orders. It make sense, customer will order cheaper meals more than costly meals.</p>\n",
    "<p>The operating area and discount has low positive correlation with other variables.</p>"
   ]
  },
  {
   "cell_type": "markdown",
   "metadata": {},
   "source": [
    " "
   ]
  },
  {
   "cell_type": "markdown",
   "metadata": {},
   "source": [
    "# Promotion Activity"
   ]
  },
  {
   "cell_type": "code",
   "execution_count": 6,
   "metadata": {},
   "outputs": [],
   "source": [
    "# Function to draw samples, it will be used in performing tests\n",
    "def draw_samples(series, statistic=np.mean, replicas=10000):\n",
    "    size = series.shape[0]\n",
    "    sample_data = [statistic(series.sample(n=size, replace=True)) for _ in range(replicas)]\n",
    "    return np.array(sample_data)"
   ]
  },
  {
   "cell_type": "code",
   "execution_count": 7,
   "metadata": {},
   "outputs": [
    {
     "data": {
      "text/plain": [
       "0    388874\n",
       "1     48443\n",
       "2     19231\n",
       "dtype: int64"
      ]
     },
     "execution_count": 7,
     "metadata": {},
     "output_type": "execute_result"
    }
   ],
   "source": [
    "promotion = dataset['emailer_for_promotion'].astype('int') + dataset['homepage_featured'].astype('int')\n",
    "promotion.value_counts()"
   ]
  },
  {
   "cell_type": "markdown",
   "metadata": {},
   "source": [
    "In the dataset, there are two types of promotional activity, viz. promotion by emails and promotion in homepage of website. Sometimes both activities were performed but most of the time any one was performed. Due to this, below questions are raised:\n",
    "1. Does promotion by email results in increase in number of orders ?\n",
    "2. Does promotion in homepage results in increase in number of orders ?\n",
    "3. Since, there are activity in any one way, which promotional activity has higher impact on number of orders?"
   ]
  },
  {
   "cell_type": "markdown",
   "metadata": {},
   "source": [
    " "
   ]
  },
  {
   "cell_type": "markdown",
   "metadata": {},
   "source": [
    "### Does promotion by email results in increase in number of orders ?"
   ]
  },
  {
   "cell_type": "markdown",
   "metadata": {},
   "source": [
    "<p>Let's perform hypothesis test to answer this question.</p>\n",
    "<p><b>Null Hypothesis: </b><i>The difference between the mean of number of orders with email promotion and without email promotion is less than or equal to zero.</i></p>\n",
    "<p><b>Alternate Hypothesis: </b><i>The difference between the mean of number of orders with email promotion and without email promotion is greater than zero.</i></p>"
   ]
  },
  {
   "cell_type": "code",
   "execution_count": 8,
   "metadata": {},
   "outputs": [
    {
     "name": "stdout",
     "output_type": "stream",
     "text": [
      "Observed mean difference: 401.83466060394824\n",
      "Confidence Intervals: [394.26204055]\n",
      "P-value: 0.0\n"
     ]
    },
    {
     "data": {
      "image/png": "[encoded data removed]",
      "text/plain": [
       "<Figure size 432x288 with 1 Axes>"
      ]
     },
     "metadata": {
      "needs_background": "light"
     },
     "output_type": "display_data"
    }
   ],
   "source": [
    "emailer_orders = dataset[dataset.emailer_for_promotion == 1]['num_orders']\n",
    "non_emailer_orders = dataset[dataset.emailer_for_promotion == 0]['num_orders']\n",
    "\n",
    "observed_mean_diff = emailer_orders.mean() - non_emailer_orders.mean()\n",
    "mean_diff_bootstrap = draw_samples(emailer_orders) - draw_samples(non_emailer_orders)\n",
    "\n",
    "confidence_interval = np.percentile(mean_diff_bootstrap, [5.0])\n",
    "p_value = np.sum(mean_diff_bootstrap <= 0)/ len(mean_diff_bootstrap)\n",
    "\n",
    "print(\"Observed mean difference: {}\".format(observed_mean_diff))\n",
    "print(\"Confidence Intervals: {}\".format(confidence_interval))\n",
    "print(\"P-value: {}\".format(p_value))\n",
    "\n",
    "# Plotting histogram\n",
    "_ = plt.hist(mean_diff_bootstrap, bins=20, alpha=0.5)\n",
    "_ = plt.xlabel(\"Difference between the mean\")\n",
    "_ = plt.ylabel(\"number of samples\")\n",
    "_ = plt.title(\"Distribution of difference between the mean of number of orders with email promotion and without email promotion\")\n",
    "\n",
    "# Marking the 5% confidence interval\n",
    "_ = plt.axvline(confidence_interval[0], color='k', linestyle='dashed', linewidth=1)\n",
    "_ = plt.axvline(observed_mean_diff, color='g', linewidth=1)\n",
    "\n",
    "plt.show()"
   ]
  },
  {
   "cell_type": "markdown",
   "metadata": {},
   "source": [
    "<p>The P-value of above hypothesis test is statistically significant for given left-side 0.05 alpha. Hence, we reject the null hypothesis and accept the alternative hypothesis.</p>\n",
    "<p>The above Histogram also supports alternate hypothesis.</p>\n",
    "<p><b><i>Conclusion:</i> Promotion Activity by emails does increase the number of orders</b></p>"
   ]
  },
  {
   "cell_type": "markdown",
   "metadata": {},
   "source": [
    " "
   ]
  },
  {
   "cell_type": "markdown",
   "metadata": {},
   "source": [
    "### Does promotion in homepage results in increase in number of orders ?"
   ]
  },
  {
   "cell_type": "markdown",
   "metadata": {},
   "source": [
    "<p>Let's perform hypothesis test to answer this question.</p>\n",
    "<p><b>Null Hypothesis: </b><i>The difference between the mean of number of orders with homepage promotion and without homepage promotion is less than or equal to zero.</i></p>\n",
    "<p><b>Alternate Hypothesis: </b><i>The difference between the mean of number of orders with homepage promotion and without homepage promotion is greater than zero.</i></p>"
   ]
  },
  {
   "cell_type": "code",
   "execution_count": 9,
   "metadata": {},
   "outputs": [
    {
     "name": "stdout",
     "output_type": "stream",
     "text": [
      "Observed mean difference: 373.8347456767344\n",
      "Confidence Intervals: [367.91275022]\n",
      "P-value: 0.0\n"
     ]
    },
    {
     "data": {
      "image/png": "[encoded data removed]",
      "text/plain": [
       "<Figure size 432x288 with 1 Axes>"
      ]
     },
     "metadata": {
      "needs_background": "light"
     },
     "output_type": "display_data"
    }
   ],
   "source": [
    "homepage_orders = dataset[dataset.homepage_featured == 1]['num_orders']\n",
    "non_homepage_orders = dataset[dataset.homepage_featured == 0]['num_orders']\n",
    "\n",
    "observed_mean_diff = homepage_orders.mean() - non_homepage_orders.mean()\n",
    "mean_diff_bootstrap = draw_samples(homepage_orders) - draw_samples(non_homepage_orders)\n",
    "\n",
    "confidence_interval = np.percentile(mean_diff_bootstrap, [5.0])\n",
    "p_value = np.sum(mean_diff_bootstrap <= 0)/ len(mean_diff_bootstrap)\n",
    "\n",
    "print(\"Observed mean difference: {}\".format(observed_mean_diff))\n",
    "print(\"Confidence Intervals: {}\".format(confidence_interval))\n",
    "print(\"P-value: {}\".format(p_value))\n",
    "\n",
    "# Plotting histogram\n",
    "_ = plt.hist(mean_diff_bootstrap, bins=20, alpha=0.5)\n",
    "_ = plt.xlabel(\"Difference between the mean\")\n",
    "_ = plt.ylabel(\"number of samples\")\n",
    "_ = plt.title(\"Distribution of difference between the mean of number of orders with homepage promotion and without homepage promotion\")\n",
    "\n",
    "# Marking the 5% confidence interval\n",
    "_ = plt.axvline(confidence_interval[0], color='k', linestyle='dashed', linewidth=1)\n",
    "_ = plt.axvline(observed_mean_diff, color='g', linewidth=1)\n",
    "\n",
    "plt.show()"
   ]
  },
  {
   "cell_type": "markdown",
   "metadata": {},
   "source": [
    "<p>The P-value of above hypothesis test is statistically significant for given left-side 0.05 alpha. Hence, we reject the null hypothesis and accept the alternative hypothesis.</p>\n",
    "<p>The above Histogram also supports alternate hypothesis.</p>\n",
    "<p><b><i>Conclusion:</i> Promotion Activity in homepage does increase the number of orders</b></p>"
   ]
  },
  {
   "cell_type": "markdown",
   "metadata": {},
   "source": [
    " "
   ]
  },
  {
   "cell_type": "markdown",
   "metadata": {},
   "source": [
    "### Which promotional activity has higher impact on number of orders?"
   ]
  },
  {
   "cell_type": "markdown",
   "metadata": {},
   "source": [
    "<p>Let's perform hypothesis test, on dataset were either promotion activity is perfromed, to answer this question.</p>\n",
    "<p><b>Null Hypothesis: </b><i>The difference between the mean of number of orders with homepage promotion and without homepage promotion is less than or equal to zero.</i></p>\n",
    "<p><b>Alternate Hypothesis: </b><i>The difference between the mean of number of orders with homepage promotion and without homepage promotion is greater than zero.</i></p>"
   ]
  },
  {
   "cell_type": "code",
   "execution_count": 10,
   "metadata": {},
   "outputs": [
    {
     "name": "stdout",
     "output_type": "stream",
     "text": [
      "Observed mean difference: 24.59858319570185\n",
      "Confidence Intervals: [14.7580004]\n",
      "P-value: 0.0\n"
     ]
    },
    {
     "data": {
      "image/png": "[encoded data removed]",
      "text/plain": [
       "<Figure size 432x288 with 1 Axes>"
      ]
     },
     "metadata": {
      "needs_background": "light"
     },
     "output_type": "display_data"
    }
   ],
   "source": [
    "either_activity = dataset[promotion == 1]\n",
    "\n",
    "homepage_orders = either_activity[either_activity.homepage_featured == 1]['num_orders']\n",
    "non_homepage_orders = either_activity[either_activity.homepage_featured == 0]['num_orders']\n",
    "\n",
    "observed_mean_diff = homepage_orders.mean() - non_homepage_orders.mean()\n",
    "mean_diff_bootstrap = draw_samples(homepage_orders) - draw_samples(non_homepage_orders)\n",
    "\n",
    "confidence_interval = np.percentile(mean_diff_bootstrap, [5.0])\n",
    "p_value = np.sum(mean_diff_bootstrap <= 0)/ len(mean_diff_bootstrap)\n",
    "\n",
    "print(\"Observed mean difference: {}\".format(observed_mean_diff))\n",
    "print(\"Confidence Intervals: {}\".format(confidence_interval))\n",
    "print(\"P-value: {}\".format(p_value))\n",
    "\n",
    "# Plotting histogram\n",
    "_ = plt.hist(mean_diff_bootstrap, bins=20, alpha=0.5)\n",
    "_ = plt.xlabel(\"Difference between the mean\")\n",
    "_ = plt.ylabel(\"number of samples\")\n",
    "_ = plt.title(\"Distribution of difference between the mean of number of orders with homepage promotion and without homepage promotion\")\n",
    "\n",
    "# Marking the 5% confidence interval\n",
    "_ = plt.axvline(confidence_interval[0], color='k', linestyle='dashed', linewidth=1)\n",
    "_ = plt.axvline(observed_mean_diff, color='g', linewidth=1)\n",
    "\n",
    "plt.show()"
   ]
  },
  {
   "cell_type": "markdown",
   "metadata": {},
   "source": [
    "<p>The P-value of above hypothesis test is statistically significant for given left-side 0.05 alpha. Hence, we reject the null hypothesis and accept the alternative hypothesis.</p>\n",
    "<p>The above Histogram also supports alternate hypothesis.</p>\n",
    "<p><b><i>Conclusion:</i> Promotion Activity in homepage has more impact than emails on increase in number of orders</b></p>\n",
    "<p><i>Note: This is only in case were there is any one activity.</i>"
   ]
  },
  {
   "cell_type": "markdown",
   "metadata": {},
   "source": [
    " "
   ]
  },
  {
   "cell_type": "markdown",
   "metadata": {},
   "source": [
    " "
   ]
  },
  {
   "cell_type": "markdown",
   "metadata": {},
   "source": [
    "# Summary\n",
    "\n",
    "1. The checkout price and base price has high positive correlation with each other\n",
    "2. They also have negative correlation with number of orders\n",
    "3. The operating area and discount has low positive correlation with other variables\n",
    "4. Promotion Activity by emails does increase the number of orders\n",
    "5. Promotion Activity in homepage does increase the number of orders\n",
    "6. But Promotion activity in homepage has more impact than emails on increase in number of orders"
   ]
  }
 ],
 "metadata": {
  "kernelspec": {
   "display_name": "Python 3",
   "language": "python",
   "name": "python3"
  },
  "language_info": {
   "codemirror_mode": {
    "name": "ipython",
    "version": 3
   },
   "file_extension": ".py",
   "mimetype": "text/x-python",
   "name": "python",
   "nbconvert_exporter": "python",
   "pygments_lexer": "ipython3",
   "version": "3.7.4"
  }
 },
 "nbformat": 4,
 "nbformat_minor": 2
}
