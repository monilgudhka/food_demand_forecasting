{
 "cells": [
  {
   "cell_type": "code",
   "execution_count": 1,
   "metadata": {},
   "outputs": [],
   "source": [
    "import numpy as np\n",
    "import pandas as pd\n",
    "import matplotlib.pyplot as plt\n",
    "import seaborn as sns\n",
    "from lightgbm import LGBMRegressor, plot_importance\n",
    "from sklearn.model_selection import train_test_split, GridSearchCV\n",
    "from sklearn.preprocessing import LabelEncoder\n",
    "from sklearn.metrics import mean_squared_log_error, mean_squared_error"
   ]
  },
  {
   "cell_type": "markdown",
   "metadata": {},
   "source": [
    "## Defining constants"
   ]
  },
  {
   "cell_type": "code",
   "execution_count": 2,
   "metadata": {},
   "outputs": [],
   "source": [
    "target = 'num_orders'\n",
    "\n",
    "features = ['center_id', 'meal_id', 'checkout_price', 'mean_base_price', 'mean_discount', 'promotion', 'city_code', \n",
    "            'center_type', 'op_area', 'category', 'year']\n",
    "\n",
    "log_columns = []\n",
    "\n",
    "categorical_columns = ['week', 'center_id', 'meal_id', 'emailer_for_promotion', 'homepage_featured', 'promotion', \n",
    "                       'city_code', 'region_code', 'center_type', 'category', 'cuisine', 'year', 'month', \n",
    "                       'week_in_month']\n",
    "\n",
    "def evaluate(y_test, y_pred):\n",
    "    return 100 * np.sqrt(mean_squared_error(y_test, y_pred))"
   ]
  },
  {
   "cell_type": "markdown",
   "metadata": {},
   "source": [
    " "
   ]
  },
  {
   "cell_type": "markdown",
   "metadata": {},
   "source": [
    "# Reading Data"
   ]
  },
  {
   "cell_type": "code",
   "execution_count": 3,
   "metadata": {},
   "outputs": [
    {
     "data": {
      "text/html": [
       "<div>\n",
       "<style scoped>\n",
       "    .dataframe tbody tr th:only-of-type {\n",
       "        vertical-align: middle;\n",
       "    }\n",
       "\n",
       "    .dataframe tbody tr th {\n",
       "        vertical-align: top;\n",
       "    }\n",
       "\n",
       "    .dataframe thead th {\n",
       "        text-align: right;\n",
       "    }\n",
       "</style>\n",
       "<table border=\"1\" class=\"dataframe\">\n",
       "  <thead>\n",
       "    <tr style=\"text-align: right;\">\n",
       "      <th></th>\n",
       "      <th>num_orders</th>\n",
       "      <th>week</th>\n",
       "      <th>center_id</th>\n",
       "      <th>meal_id</th>\n",
       "      <th>checkout_price</th>\n",
       "      <th>base_price</th>\n",
       "      <th>emailer_for_promotion</th>\n",
       "      <th>homepage_featured</th>\n",
       "      <th>city_code</th>\n",
       "      <th>region_code</th>\n",
       "      <th>...</th>\n",
       "      <th>op_area</th>\n",
       "      <th>category</th>\n",
       "      <th>cuisine</th>\n",
       "      <th>mean_base_price</th>\n",
       "      <th>discount</th>\n",
       "      <th>mean_discount</th>\n",
       "      <th>year</th>\n",
       "      <th>month</th>\n",
       "      <th>week_in_month</th>\n",
       "      <th>promotion</th>\n",
       "    </tr>\n",
       "    <tr>\n",
       "      <th>id</th>\n",
       "      <th></th>\n",
       "      <th></th>\n",
       "      <th></th>\n",
       "      <th></th>\n",
       "      <th></th>\n",
       "      <th></th>\n",
       "      <th></th>\n",
       "      <th></th>\n",
       "      <th></th>\n",
       "      <th></th>\n",
       "      <th></th>\n",
       "      <th></th>\n",
       "      <th></th>\n",
       "      <th></th>\n",
       "      <th></th>\n",
       "      <th></th>\n",
       "      <th></th>\n",
       "      <th></th>\n",
       "      <th></th>\n",
       "      <th></th>\n",
       "      <th></th>\n",
       "    </tr>\n",
       "  </thead>\n",
       "  <tbody>\n",
       "    <tr>\n",
       "      <th>1379560</th>\n",
       "      <td>177</td>\n",
       "      <td>1</td>\n",
       "      <td>55</td>\n",
       "      <td>1885</td>\n",
       "      <td>136.83</td>\n",
       "      <td>152.29</td>\n",
       "      <td>0</td>\n",
       "      <td>0</td>\n",
       "      <td>647</td>\n",
       "      <td>56</td>\n",
       "      <td>...</td>\n",
       "      <td>2.0</td>\n",
       "      <td>Beverages</td>\n",
       "      <td>Thai</td>\n",
       "      <td>152.29</td>\n",
       "      <td>15.46</td>\n",
       "      <td>15.46</td>\n",
       "      <td>1</td>\n",
       "      <td>1</td>\n",
       "      <td>1</td>\n",
       "      <td>0</td>\n",
       "    </tr>\n",
       "    <tr>\n",
       "      <th>1466964</th>\n",
       "      <td>270</td>\n",
       "      <td>1</td>\n",
       "      <td>55</td>\n",
       "      <td>1993</td>\n",
       "      <td>136.83</td>\n",
       "      <td>135.83</td>\n",
       "      <td>0</td>\n",
       "      <td>0</td>\n",
       "      <td>647</td>\n",
       "      <td>56</td>\n",
       "      <td>...</td>\n",
       "      <td>2.0</td>\n",
       "      <td>Beverages</td>\n",
       "      <td>Thai</td>\n",
       "      <td>135.83</td>\n",
       "      <td>-1.00</td>\n",
       "      <td>-1.00</td>\n",
       "      <td>1</td>\n",
       "      <td>1</td>\n",
       "      <td>1</td>\n",
       "      <td>0</td>\n",
       "    </tr>\n",
       "    <tr>\n",
       "      <th>1346989</th>\n",
       "      <td>189</td>\n",
       "      <td>1</td>\n",
       "      <td>55</td>\n",
       "      <td>2539</td>\n",
       "      <td>134.86</td>\n",
       "      <td>135.86</td>\n",
       "      <td>0</td>\n",
       "      <td>0</td>\n",
       "      <td>647</td>\n",
       "      <td>56</td>\n",
       "      <td>...</td>\n",
       "      <td>2.0</td>\n",
       "      <td>Beverages</td>\n",
       "      <td>Thai</td>\n",
       "      <td>135.86</td>\n",
       "      <td>1.00</td>\n",
       "      <td>1.00</td>\n",
       "      <td>1</td>\n",
       "      <td>1</td>\n",
       "      <td>1</td>\n",
       "      <td>0</td>\n",
       "    </tr>\n",
       "    <tr>\n",
       "      <th>1338232</th>\n",
       "      <td>54</td>\n",
       "      <td>1</td>\n",
       "      <td>55</td>\n",
       "      <td>2139</td>\n",
       "      <td>339.50</td>\n",
       "      <td>437.53</td>\n",
       "      <td>0</td>\n",
       "      <td>0</td>\n",
       "      <td>647</td>\n",
       "      <td>56</td>\n",
       "      <td>...</td>\n",
       "      <td>2.0</td>\n",
       "      <td>Beverages</td>\n",
       "      <td>Indian</td>\n",
       "      <td>437.53</td>\n",
       "      <td>98.03</td>\n",
       "      <td>98.03</td>\n",
       "      <td>1</td>\n",
       "      <td>1</td>\n",
       "      <td>1</td>\n",
       "      <td>0</td>\n",
       "    </tr>\n",
       "    <tr>\n",
       "      <th>1448490</th>\n",
       "      <td>40</td>\n",
       "      <td>1</td>\n",
       "      <td>55</td>\n",
       "      <td>2631</td>\n",
       "      <td>243.50</td>\n",
       "      <td>242.50</td>\n",
       "      <td>0</td>\n",
       "      <td>0</td>\n",
       "      <td>647</td>\n",
       "      <td>56</td>\n",
       "      <td>...</td>\n",
       "      <td>2.0</td>\n",
       "      <td>Beverages</td>\n",
       "      <td>Indian</td>\n",
       "      <td>242.50</td>\n",
       "      <td>-1.00</td>\n",
       "      <td>-1.00</td>\n",
       "      <td>1</td>\n",
       "      <td>1</td>\n",
       "      <td>1</td>\n",
       "      <td>0</td>\n",
       "    </tr>\n",
       "  </tbody>\n",
       "</table>\n",
       "<p>5 rows × 21 columns</p>\n",
       "</div>"
      ],
      "text/plain": [
       "         num_orders  week  center_id  meal_id  checkout_price  base_price  \\\n",
       "id                                                                          \n",
       "1379560         177     1         55     1885          136.83      152.29   \n",
       "1466964         270     1         55     1993          136.83      135.83   \n",
       "1346989         189     1         55     2539          134.86      135.86   \n",
       "1338232          54     1         55     2139          339.50      437.53   \n",
       "1448490          40     1         55     2631          243.50      242.50   \n",
       "\n",
       "         emailer_for_promotion  homepage_featured  city_code  region_code  \\\n",
       "id                                                                          \n",
       "1379560                      0                  0        647           56   \n",
       "1466964                      0                  0        647           56   \n",
       "1346989                      0                  0        647           56   \n",
       "1338232                      0                  0        647           56   \n",
       "1448490                      0                  0        647           56   \n",
       "\n",
       "         ... op_area   category cuisine mean_base_price  discount  \\\n",
       "id       ...                                                        \n",
       "1379560  ...     2.0  Beverages    Thai          152.29     15.46   \n",
       "1466964  ...     2.0  Beverages    Thai          135.83     -1.00   \n",
       "1346989  ...     2.0  Beverages    Thai          135.86      1.00   \n",
       "1338232  ...     2.0  Beverages  Indian          437.53     98.03   \n",
       "1448490  ...     2.0  Beverages  Indian          242.50     -1.00   \n",
       "\n",
       "         mean_discount  year  month  week_in_month  promotion  \n",
       "id                                                             \n",
       "1379560          15.46     1      1              1          0  \n",
       "1466964          -1.00     1      1              1          0  \n",
       "1346989           1.00     1      1              1          0  \n",
       "1338232          98.03     1      1              1          0  \n",
       "1448490          -1.00     1      1              1          0  \n",
       "\n",
       "[5 rows x 21 columns]"
      ]
     },
     "execution_count": 3,
     "metadata": {},
     "output_type": "execute_result"
    }
   ],
   "source": [
    "trainset = pd.read_csv(\"../data/train/train_feature.csv\", index_col='id')\n",
    "trainset.head()"
   ]
  },
  {
   "cell_type": "code",
   "execution_count": 4,
   "metadata": {},
   "outputs": [
    {
     "name": "stdout",
     "output_type": "stream",
     "text": [
      "<class 'pandas.core.frame.DataFrame'>\n",
      "Int64Index: 456548 entries, 1379560 to 1361984\n",
      "Data columns (total 21 columns):\n",
      "num_orders               456548 non-null int64\n",
      "week                     456548 non-null int64\n",
      "center_id                456548 non-null int64\n",
      "meal_id                  456548 non-null int64\n",
      "checkout_price           456548 non-null float64\n",
      "base_price               456548 non-null float64\n",
      "emailer_for_promotion    456548 non-null int64\n",
      "homepage_featured        456548 non-null int64\n",
      "city_code                456548 non-null int64\n",
      "region_code              456548 non-null int64\n",
      "center_type              456548 non-null object\n",
      "op_area                  456548 non-null float64\n",
      "category                 456548 non-null object\n",
      "cuisine                  456548 non-null object\n",
      "mean_base_price          456548 non-null float64\n",
      "discount                 456548 non-null float64\n",
      "mean_discount            456548 non-null float64\n",
      "year                     456548 non-null int64\n",
      "month                    456548 non-null int64\n",
      "week_in_month            456548 non-null int64\n",
      "promotion                456548 non-null int64\n",
      "dtypes: float64(6), int64(12), object(3)\n",
      "memory usage: 76.6+ MB\n"
     ]
    }
   ],
   "source": [
    "trainset.info()"
   ]
  },
  {
   "cell_type": "code",
   "execution_count": 5,
   "metadata": {},
   "outputs": [
    {
     "data": {
      "text/html": [
       "<div>\n",
       "<style scoped>\n",
       "    .dataframe tbody tr th:only-of-type {\n",
       "        vertical-align: middle;\n",
       "    }\n",
       "\n",
       "    .dataframe tbody tr th {\n",
       "        vertical-align: top;\n",
       "    }\n",
       "\n",
       "    .dataframe thead th {\n",
       "        text-align: right;\n",
       "    }\n",
       "</style>\n",
       "<table border=\"1\" class=\"dataframe\">\n",
       "  <thead>\n",
       "    <tr style=\"text-align: right;\">\n",
       "      <th></th>\n",
       "      <th>week</th>\n",
       "      <th>center_id</th>\n",
       "      <th>meal_id</th>\n",
       "      <th>checkout_price</th>\n",
       "      <th>base_price</th>\n",
       "      <th>emailer_for_promotion</th>\n",
       "      <th>homepage_featured</th>\n",
       "      <th>city_code</th>\n",
       "      <th>region_code</th>\n",
       "      <th>center_type</th>\n",
       "      <th>op_area</th>\n",
       "      <th>category</th>\n",
       "      <th>cuisine</th>\n",
       "      <th>mean_base_price</th>\n",
       "      <th>discount</th>\n",
       "      <th>mean_discount</th>\n",
       "      <th>year</th>\n",
       "      <th>month</th>\n",
       "      <th>week_in_month</th>\n",
       "      <th>promotion</th>\n",
       "    </tr>\n",
       "    <tr>\n",
       "      <th>id</th>\n",
       "      <th></th>\n",
       "      <th></th>\n",
       "      <th></th>\n",
       "      <th></th>\n",
       "      <th></th>\n",
       "      <th></th>\n",
       "      <th></th>\n",
       "      <th></th>\n",
       "      <th></th>\n",
       "      <th></th>\n",
       "      <th></th>\n",
       "      <th></th>\n",
       "      <th></th>\n",
       "      <th></th>\n",
       "      <th></th>\n",
       "      <th></th>\n",
       "      <th></th>\n",
       "      <th></th>\n",
       "      <th></th>\n",
       "      <th></th>\n",
       "    </tr>\n",
       "  </thead>\n",
       "  <tbody>\n",
       "    <tr>\n",
       "      <th>1028232</th>\n",
       "      <td>146</td>\n",
       "      <td>55</td>\n",
       "      <td>1885</td>\n",
       "      <td>158.11</td>\n",
       "      <td>159.11</td>\n",
       "      <td>0</td>\n",
       "      <td>0</td>\n",
       "      <td>647</td>\n",
       "      <td>56</td>\n",
       "      <td>TYPE_C</td>\n",
       "      <td>2.0</td>\n",
       "      <td>Beverages</td>\n",
       "      <td>Thai</td>\n",
       "      <td>145.899726</td>\n",
       "      <td>1.0</td>\n",
       "      <td>-12.210274</td>\n",
       "      <td>3</td>\n",
       "      <td>11</td>\n",
       "      <td>2</td>\n",
       "      <td>0</td>\n",
       "    </tr>\n",
       "    <tr>\n",
       "      <th>1127204</th>\n",
       "      <td>146</td>\n",
       "      <td>55</td>\n",
       "      <td>1993</td>\n",
       "      <td>160.11</td>\n",
       "      <td>159.11</td>\n",
       "      <td>0</td>\n",
       "      <td>0</td>\n",
       "      <td>647</td>\n",
       "      <td>56</td>\n",
       "      <td>TYPE_C</td>\n",
       "      <td>2.0</td>\n",
       "      <td>Beverages</td>\n",
       "      <td>Thai</td>\n",
       "      <td>145.890000</td>\n",
       "      <td>-1.0</td>\n",
       "      <td>-14.220000</td>\n",
       "      <td>3</td>\n",
       "      <td>11</td>\n",
       "      <td>2</td>\n",
       "      <td>0</td>\n",
       "    </tr>\n",
       "    <tr>\n",
       "      <th>1212707</th>\n",
       "      <td>146</td>\n",
       "      <td>55</td>\n",
       "      <td>2539</td>\n",
       "      <td>157.14</td>\n",
       "      <td>159.14</td>\n",
       "      <td>0</td>\n",
       "      <td>0</td>\n",
       "      <td>647</td>\n",
       "      <td>56</td>\n",
       "      <td>TYPE_C</td>\n",
       "      <td>2.0</td>\n",
       "      <td>Beverages</td>\n",
       "      <td>Thai</td>\n",
       "      <td>146.232000</td>\n",
       "      <td>2.0</td>\n",
       "      <td>-10.908000</td>\n",
       "      <td>3</td>\n",
       "      <td>11</td>\n",
       "      <td>2</td>\n",
       "      <td>0</td>\n",
       "    </tr>\n",
       "    <tr>\n",
       "      <th>1082698</th>\n",
       "      <td>146</td>\n",
       "      <td>55</td>\n",
       "      <td>2631</td>\n",
       "      <td>162.02</td>\n",
       "      <td>162.02</td>\n",
       "      <td>0</td>\n",
       "      <td>0</td>\n",
       "      <td>647</td>\n",
       "      <td>56</td>\n",
       "      <td>TYPE_C</td>\n",
       "      <td>2.0</td>\n",
       "      <td>Beverages</td>\n",
       "      <td>Indian</td>\n",
       "      <td>169.936231</td>\n",
       "      <td>0.0</td>\n",
       "      <td>7.916231</td>\n",
       "      <td>3</td>\n",
       "      <td>11</td>\n",
       "      <td>2</td>\n",
       "      <td>0</td>\n",
       "    </tr>\n",
       "    <tr>\n",
       "      <th>1400926</th>\n",
       "      <td>146</td>\n",
       "      <td>55</td>\n",
       "      <td>1248</td>\n",
       "      <td>163.93</td>\n",
       "      <td>163.93</td>\n",
       "      <td>0</td>\n",
       "      <td>0</td>\n",
       "      <td>647</td>\n",
       "      <td>56</td>\n",
       "      <td>TYPE_C</td>\n",
       "      <td>2.0</td>\n",
       "      <td>Beverages</td>\n",
       "      <td>Indian</td>\n",
       "      <td>171.277200</td>\n",
       "      <td>0.0</td>\n",
       "      <td>7.347200</td>\n",
       "      <td>3</td>\n",
       "      <td>11</td>\n",
       "      <td>2</td>\n",
       "      <td>0</td>\n",
       "    </tr>\n",
       "  </tbody>\n",
       "</table>\n",
       "</div>"
      ],
      "text/plain": [
       "         week  center_id  meal_id  checkout_price  base_price  \\\n",
       "id                                                              \n",
       "1028232   146         55     1885          158.11      159.11   \n",
       "1127204   146         55     1993          160.11      159.11   \n",
       "1212707   146         55     2539          157.14      159.14   \n",
       "1082698   146         55     2631          162.02      162.02   \n",
       "1400926   146         55     1248          163.93      163.93   \n",
       "\n",
       "         emailer_for_promotion  homepage_featured  city_code  region_code  \\\n",
       "id                                                                          \n",
       "1028232                      0                  0        647           56   \n",
       "1127204                      0                  0        647           56   \n",
       "1212707                      0                  0        647           56   \n",
       "1082698                      0                  0        647           56   \n",
       "1400926                      0                  0        647           56   \n",
       "\n",
       "        center_type  op_area   category cuisine  mean_base_price  discount  \\\n",
       "id                                                                           \n",
       "1028232      TYPE_C      2.0  Beverages    Thai       145.899726       1.0   \n",
       "1127204      TYPE_C      2.0  Beverages    Thai       145.890000      -1.0   \n",
       "1212707      TYPE_C      2.0  Beverages    Thai       146.232000       2.0   \n",
       "1082698      TYPE_C      2.0  Beverages  Indian       169.936231       0.0   \n",
       "1400926      TYPE_C      2.0  Beverages  Indian       171.277200       0.0   \n",
       "\n",
       "         mean_discount  year  month  week_in_month  promotion  \n",
       "id                                                             \n",
       "1028232     -12.210274     3     11              2          0  \n",
       "1127204     -14.220000     3     11              2          0  \n",
       "1212707     -10.908000     3     11              2          0  \n",
       "1082698       7.916231     3     11              2          0  \n",
       "1400926       7.347200     3     11              2          0  "
      ]
     },
     "execution_count": 5,
     "metadata": {},
     "output_type": "execute_result"
    }
   ],
   "source": [
    "testset = pd.read_csv(\"../data/test/test_feature.csv\", index_col='id')\n",
    "testset.head()"
   ]
  },
  {
   "cell_type": "markdown",
   "metadata": {},
   "source": [
    " "
   ]
  },
  {
   "cell_type": "markdown",
   "metadata": {},
   "source": [
    "# Data Preprocessing"
   ]
  },
  {
   "cell_type": "code",
   "execution_count": 6,
   "metadata": {},
   "outputs": [],
   "source": [
    "def preprocess(trainset, testset, remove_outliers=False):\n",
    "    \n",
    "    if remove_outliers:\n",
    "        trainset = trainset[trainset.num_orders <= 20000]\n",
    "        trainset = trainset[trainset.checkout_price >= 3]\n",
    "        \n",
    "    dataset = trainset.append(testset, sort=False).fillna(0)\n",
    "    \n",
    "    for column in categorical_columns:\n",
    "        dataset[column] = dataset[column].astype('category')\n",
    "      \n",
    "    for column in log_columns:\n",
    "        dataset[column] = np.log(dataset[column])\n",
    "    \n",
    "    dataset = dataset[features]\n",
    "    \n",
    "#     dataset = pd.get_dummies(dataset[features])\n",
    "#     dataset = dataset.drop(encoded_columns, axis=1)\n",
    "    \n",
    "    trainset = trainset[[target]].join(dataset)\n",
    "    testset = testset[[]].join(dataset)\n",
    "    \n",
    "    return trainset, testset"
   ]
  },
  {
   "cell_type": "code",
   "execution_count": 7,
   "metadata": {},
   "outputs": [
    {
     "name": "stdout",
     "output_type": "stream",
     "text": [
      "Trainset size: (456548, 12)\n",
      "Testset size: (32573, 11)\n"
     ]
    }
   ],
   "source": [
    "trainset, testset = preprocess(trainset, testset)\n",
    "\n",
    "print(\"Trainset size: {}\".format(trainset.shape))\n",
    "print(\"Testset size: {}\".format(testset.shape))"
   ]
  },
  {
   "cell_type": "markdown",
   "metadata": {},
   "source": [
    " "
   ]
  },
  {
   "cell_type": "markdown",
   "metadata": {},
   "source": [
    "#### Split the trainset into training and validation set"
   ]
  },
  {
   "cell_type": "code",
   "execution_count": 8,
   "metadata": {},
   "outputs": [],
   "source": [
    "# feature_columns = trainset.columns\n",
    "# feature_columns = feature_columns[feature_columns != target]\n",
    "# feature_columns.shape\n",
    "\n",
    "feature_columns = features"
   ]
  },
  {
   "cell_type": "code",
   "execution_count": 9,
   "metadata": {},
   "outputs": [
    {
     "name": "stdout",
     "output_type": "stream",
     "text": [
      "Train set size: (365238, 11)\n",
      "Validation set size: (91310, 11)\n"
     ]
    }
   ],
   "source": [
    "trainset, validationset = train_test_split(trainset, random_state=41, test_size=0.2)\n",
    "\n",
    "X_train, y_train = trainset[feature_columns], np.log(trainset[target])\n",
    "X_val, y_val = validationset[feature_columns], np.log(validationset[target])\n",
    "\n",
    "print(\"Train set size: {}\".format(X_train.shape))\n",
    "print(\"Validation set size: {}\".format(X_val.shape))"
   ]
  },
  {
   "cell_type": "markdown",
   "metadata": {},
   "source": [
    " "
   ]
  },
  {
   "cell_type": "markdown",
   "metadata": {},
   "source": [
    "# Training Models"
   ]
  },
  {
   "cell_type": "markdown",
   "metadata": {},
   "source": [
    "### LightGBM"
   ]
  },
  {
   "cell_type": "code",
   "execution_count": 10,
   "metadata": {},
   "outputs": [
    {
     "data": {
      "text/plain": [
       "51.65876009964661"
      ]
     },
     "execution_count": 10,
     "metadata": {},
     "output_type": "execute_result"
    }
   ],
   "source": [
    "simple_gbm_model = LGBMRegressor(random_state=41)\n",
    "simple_gbm_model.fit(X_train, y_train, eval_metric='rmse')\n",
    "y_pred = simple_gbm_model.predict(X_val)\n",
    "\n",
    "evaluate(y_val, y_pred)"
   ]
  },
  {
   "cell_type": "code",
   "execution_count": 11,
   "metadata": {},
   "outputs": [
    {
     "data": {
      "image/png": "[encoded data removed]",
      "text/plain": [
       "<Figure size 864x720 with 1 Axes>"
      ]
     },
     "metadata": {
      "needs_background": "light"
     },
     "output_type": "display_data"
    }
   ],
   "source": [
    "ax = plot_importance(simple_gbm_model, max_num_features=50, height=0.8, figsize=(12, 10))\n",
    "ax.grid(False)\n",
    "plt.title(\"LightGBM - Feature Importance\", fontsize=15)\n",
    "plt.show()"
   ]
  },
  {
   "cell_type": "code",
   "execution_count": 12,
   "metadata": {},
   "outputs": [
    {
     "data": {
      "text/plain": [
       "<matplotlib.axes._subplots.AxesSubplot at 0x7f76e8490908>"
      ]
     },
     "execution_count": 12,
     "metadata": {},
     "output_type": "execute_result"
    },
    {
     "data": {
      "image/png": "[encoded data removed]",
      "text/plain": [
       "<Figure size 432x288 with 1 Axes>"
      ]
     },
     "metadata": {
      "needs_background": "light"
     },
     "output_type": "display_data"
    }
   ],
   "source": [
    "sns.residplot(y_val, y_pred)"
   ]
  },
  {
   "cell_type": "markdown",
   "metadata": {},
   "source": [
    " "
   ]
  },
  {
   "cell_type": "markdown",
   "metadata": {},
   "source": [
    "# Submission"
   ]
  },
  {
   "cell_type": "code",
   "execution_count": 13,
   "metadata": {},
   "outputs": [],
   "source": [
    "best_model_name = 'simple_gbm_model'\n",
    "best_model = simple_gbm_model"
   ]
  },
  {
   "cell_type": "code",
   "execution_count": 14,
   "metadata": {},
   "outputs": [],
   "source": [
    "X_test = testset[feature_columns]\n",
    "y_pred = best_model.predict(X_test)\n",
    "testset[target] = np.round(np.exp(y_pred), decimals=0)\n",
    "\n",
    "submission = testset[[target]]\n",
    "submission.to_csv('../data/submission/' + best_model_name + '.csv')"
   ]
  },
  {
   "cell_type": "markdown",
   "metadata": {},
   "source": [
    "## Result\n",
    "\n",
    "<p>Public score: <b>53.9355839806423</b></p>"
   ]
  },
  {
   "cell_type": "markdown",
   "metadata": {},
   "source": [
    " "
   ]
  }
 ],
 "metadata": {
  "kernelspec": {
   "display_name": "Python 3",
   "language": "python",
   "name": "python3"
  },
  "language_info": {
   "codemirror_mode": {
    "name": "ipython",
    "version": 3
   },
   "file_extension": ".py",
   "mimetype": "text/x-python",
   "name": "python",
   "nbconvert_exporter": "python",
   "pygments_lexer": "ipython3",
   "version": "3.7.3"
  }
 },
 "nbformat": 4,
 "nbformat_minor": 2
}
